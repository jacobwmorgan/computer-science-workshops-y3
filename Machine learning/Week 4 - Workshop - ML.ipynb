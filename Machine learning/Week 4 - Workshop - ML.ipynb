{
 "cells": [
  {
   "cell_type": "markdown",
   "metadata": {},
   "source": [
    "# Machine Learning Workshop: Week 4\n",
    "In this workshop, you will use Python to implement the KNN (DO NOT use python libraries of KNN) introduced in the Lecture on the iris dataset. You will also be asked to use SVM algorithms available in scikit-learn to do classification on other datasets.\n",
    "\n",
    "### Iris dataset description\n",
    "The IRIS dataset is a good example of multi-classification. The dataset we will use has 150 observations of iris flowers from three different species, hence three classes: setosa, versicolor and virginica. There are four attributes in the data: sepal length, sepal width, petal length and petal width.\n",
    " \n",
    " The data can be loaded from `sklearn' using Python. \n",
    " \n",
    " >from sklearn import datasets\n",
    " \n",
    " >iris=datasets.load_iris()\n"
   ]
  },
  {
   "cell_type": "markdown",
   "metadata": {},
   "source": [
    "### Excercise 1:\n",
    "Your code to implement KNN algorithm should include the following functions:\n",
    "\n",
    "a. Load the data set; return 90% as train data and 10% as test data \n",
    "\n",
    "b. Normalize the features (why? because they are used for calculating distance, and KNN essentially rely on the single feature whose values are substantially larger)\n",
    "\n",
    "c. Calculate the Euclidean distance between any two points\n",
    "\n",
    "d. Find the neighbours given a test data point and number k\n",
    "\n",
    "e. Get the class labels; you should also handle ties\n",
    "\n",
    "f. Calculate prediction accuracy\n",
    "\n",
    "Note: you need to implement each function yourself instead of using python libraries. Please <font color='red'>try to avoid the train_test_split</font> function provided in sklearn. If you really do know how to shuffle data then just use it.\n"
   ]
  },
  {
   "cell_type": "code",
   "execution_count": 17,
   "metadata": {},
   "outputs": [],
   "source": [
    "from sklearn import datasets, preprocessing\n",
    "import numpy as np\n",
    "import math\n",
    "import operator\n",
    "# This function is to normalise the data features, each feature is normalised to norm 1\n",
    "# normalised_feature=(feature-min_feature)/(max_feature-min_feature)\n",
    "\n",
    "def normalise(data):\n",
    "    #feature=data[:,0:4]\n",
    "    max_feature= data.max()\n",
    "    min_feature= data.min()\n",
    "    diff = max_feature - min_feature\n",
    "    normalised_feature = []\n",
    "    for i in data:\n",
    "        temp = (i - min_feature) / diff\n",
    "        normalised_feature.append(temp)\n",
    "    \n",
    "    return normalised_feature"
   ]
  },
  {
   "cell_type": "code",
   "execution_count": 18,
   "metadata": {},
   "outputs": [],
   "source": [
    "rate = 0.9\n",
    "k = 3\n",
    "\n",
    "# This function is to load the IRIS data, normalise it (not for lables), shuffle it and split it into training and test\n",
    "# data set\n",
    "def get_data():\n",
    "    # load data\n",
    "    iris = datasets.load_iris()\n",
    "    iris_feature=iris.data\n",
    "    iris_label=iris.target\n",
    "                          \n",
    "    # store length so we can use it to figure out where to split the data\n",
    "    num_sample=len(iris_label)\n",
    "    # put your code to Call the normalise function here\n",
    "    norm = normalise(iris_feature)\n",
    "    \n",
    "    # put your code to split the dataset here ...\n",
    "    iris_train, iris_test = np.split(norm, [int(num_sample*rate)]) # np.split with an integer value will split an array in two, so we use 90% of the number of samples\n",
    "    return iris_train, iris_test"
   ]
  },
  {
   "cell_type": "code",
   "execution_count": 19,
   "metadata": {},
   "outputs": [],
   "source": [
    "# This function is to calculate Euclidean distance between two samples\n",
    "def getdistance(sample1, sample2):\n",
    "    dist = np.linalg.norm(sample1-sample2) # don't really need to know how this works, but it calculates euclidean distance between two points\n",
    "    \n",
    "    return math.sqrt(dist)\n",
    "    # This is how this function can be called and tested: dist = getdistance(data_normalised[0,:],data_normalised[1,:])"
   ]
  },
  {
   "cell_type": "code",
   "execution_count": 20,
   "metadata": {},
   "outputs": [],
   "source": [
    "# This function is to find the k neighbours for the test sample from traning samples\n",
    "def findNeighbours(training_data, test_sample, k):\n",
    "    # find the k neighbours for the test sample from training samples\n",
    "    distances = [100000,100001,100002] #  we want to start off with values so our for loop will always work\n",
    "    neighbours = []\n",
    "\n",
    "    for data in training_data:\n",
    "        dist = getdistance(data, test_sample)\n",
    "        for i in range (0, k): #loop from index to 0 to index k-1\n",
    "            if (dist < distances[i]):\n",
    "                distances.insert(i, dist)\n",
    "                neighbours.insert(i, data)\n",
    "                break\n",
    "    return neighbours[:3]\n",
    "    # This is how this function can be called and tested: neighbours = findNeighbours(iris_train, iris_test[0,:], k)\n"
   ]
  },
  {
   "cell_type": "code",
   "execution_count": 5,
   "metadata": {},
   "outputs": [],
   "source": [
    "# This function is to find the most probable neighbour\n",
    "def getClass(neighbours):\n",
    "    # find the most probable neighbour\n",
    "    classvotes = {}\n",
    "    # put your code here ...\n",
    "    return neighbours[:1][-1][-1] # most probable is probably the first one? notes are a bit confusing here.\n",
    "    \n",
    "    # This is how this function can be called and tested: votes = getClass(neighbours)"
   ]
  },
  {
   "cell_type": "code",
   "execution_count": 6,
   "metadata": {},
   "outputs": [],
   "source": [
    "# This function is to calculate accuracy\n",
    "def get_accuracy(test_sample, prediction):\n",
    "    # put your code here ...\n",
    "    a = []\n",
    "    for i in test_sample:\n",
    "        a.append(i[-1]) # we only want the last value as that matches our prediction set\n",
    "    b = np.array(prediction)\n",
    "\n",
    "    return (1-(a-b).sum()) * 100 # subtracting error rate from 1 will give us accuracy"
   ]
  },
  {
   "cell_type": "code",
   "execution_count": 21,
   "metadata": {},
   "outputs": [
    {
     "name": "stdout",
     "output_type": "stream",
     "text": [
      "> predicted=0.23076923076923073, actual=0.282051282051282\n",
      "> predicted=0.282051282051282, actual=0.2948717948717948\n",
      "> predicted=0.21794871794871792, actual=0.21794871794871792\n",
      "> predicted=0.21794871794871792, actual=0.21794871794871792\n",
      "> predicted=0.2564102564102564, actual=0.2564102564102564\n",
      "> predicted=0.282051282051282, actual=0.2948717948717948\n",
      "> predicted=0.2564102564102564, actual=0.282051282051282\n",
      "> predicted=0.23076923076923073, actual=0.23076923076923073\n",
      "> predicted=0.282051282051282, actual=0.282051282051282\n",
      "> predicted=0.282051282051282, actual=0.30769230769230765\n",
      "> predicted=0.2564102564102564, actual=0.282051282051282\n",
      "> predicted=0.21794871794871792, actual=0.23076923076923073\n",
      "> predicted=0.24358974358974356, actual=0.24358974358974356\n",
      "> predicted=0.282051282051282, actual=0.282051282051282\n",
      "> predicted=0.21794871794871792, actual=0.21794871794871792\n",
      "Accuracy: 83.33333333333334%\n"
     ]
    }
   ],
   "source": [
    "# This is the main function which shall call the functions you write above and realise classification \n",
    "def main():\n",
    "    # obtain data\n",
    "    iris_train, iris_test = get_data()\n",
    "    # obtain predictions\n",
    "    predictions = []\n",
    "    for i in range(len(iris_test)):\n",
    "        neighbours = findNeighbours(iris_train, iris_test[i,:], k)\n",
    "        votes = getClass(neighbours)\n",
    "        predictions.append(votes)\n",
    "        print('> predicted=' + repr(votes) + ', actual=' + repr(iris_test[i][-1]))\n",
    "    accuracy = get_accuracy(iris_test,predictions)\n",
    "    print('Accuracy: ' + repr(accuracy) + '%')\n",
    "\n",
    "main()"
   ]
  },
  {
   "cell_type": "markdown",
   "metadata": {},
   "source": [
    "### Excercise 2:\n",
    "\n",
    "You have learnt SVM for binary classification. Now it is time to test your learning for classifying a real dataset with binary labels. The data you are going to use is the breast cancer dataset provided by scikit-learn, each record of which has 10 attributes of cell nucleus (radius, texture, perimeter, area, etc.) and a class lable with malignant (begign) indicating cancerous (non-cancerous).\n",
    "\n",
    "The dataset can be loaded from `sklearn' using Python. \n",
    "\n",
    " >from sklearn import datasets\n",
    " \n",
    " >iris=datasets.load_breast_cancer()\n",
    "\n",
    "\n",
    "Your SVM code should include the following functions:\n",
    "\n",
    "a. Load the data set; return 70% as train data and 30% as test data (you can use train_test_split function)\n",
    "\n",
    "b. Visualise the relationship between petal (sepal) and target classes: petal (sepal) length values on X-axis and width values on Y-axis.\n",
    "\n",
    "c. Build SVMs with four different kernels (linear, RBF, sigmoid, polynomial)\n",
    "\n",
    "d. Create confusion matrix and classification report (which is described later)\n",
    "\n",
    "f. Create receiver operating characteristic (ROC) curve"
   ]
  },
  {
   "cell_type": "code",
   "execution_count": 22,
   "metadata": {},
   "outputs": [],
   "source": [
    "\n",
    "# Required Packages\n",
    "from sklearn import datasets # To Get iris dataset\n",
    "from sklearn import svm    # To fit the svm classifier\n",
    "import numpy as np\n",
    "import pandas as pd\n",
    "import matplotlib.pyplot as plt            # To visuvalizing the data\n",
    "import warnings\n",
    "warnings.filterwarnings(\"ignore\")"
   ]
  },
  {
   "cell_type": "code",
   "execution_count": 23,
   "metadata": {
    "scrolled": false
   },
   "outputs": [
    {
     "data": {
      "text/html": [
       "<div>\n",
       "<style scoped>\n",
       "    .dataframe tbody tr th:only-of-type {\n",
       "        vertical-align: middle;\n",
       "    }\n",
       "\n",
       "    .dataframe tbody tr th {\n",
       "        vertical-align: top;\n",
       "    }\n",
       "\n",
       "    .dataframe thead th {\n",
       "        text-align: right;\n",
       "    }\n",
       "</style>\n",
       "<table border=\"1\" class=\"dataframe\">\n",
       "  <thead>\n",
       "    <tr style=\"text-align: right;\">\n",
       "      <th></th>\n",
       "      <th>mean radius</th>\n",
       "      <th>mean texture</th>\n",
       "      <th>mean perimeter</th>\n",
       "      <th>mean area</th>\n",
       "      <th>mean smoothness</th>\n",
       "      <th>mean compactness</th>\n",
       "      <th>mean concavity</th>\n",
       "      <th>mean concave points</th>\n",
       "      <th>mean symmetry</th>\n",
       "      <th>mean fractal dimension</th>\n",
       "      <th>...</th>\n",
       "      <th>worst texture</th>\n",
       "      <th>worst perimeter</th>\n",
       "      <th>worst area</th>\n",
       "      <th>worst smoothness</th>\n",
       "      <th>worst compactness</th>\n",
       "      <th>worst concavity</th>\n",
       "      <th>worst concave points</th>\n",
       "      <th>worst symmetry</th>\n",
       "      <th>worst fractal dimension</th>\n",
       "      <th>target</th>\n",
       "    </tr>\n",
       "  </thead>\n",
       "  <tbody>\n",
       "    <tr>\n",
       "      <th>0</th>\n",
       "      <td>17.99</td>\n",
       "      <td>10.38</td>\n",
       "      <td>122.80</td>\n",
       "      <td>1001.0</td>\n",
       "      <td>0.11840</td>\n",
       "      <td>0.27760</td>\n",
       "      <td>0.3001</td>\n",
       "      <td>0.14710</td>\n",
       "      <td>0.2419</td>\n",
       "      <td>0.07871</td>\n",
       "      <td>...</td>\n",
       "      <td>17.33</td>\n",
       "      <td>184.60</td>\n",
       "      <td>2019.0</td>\n",
       "      <td>0.1622</td>\n",
       "      <td>0.6656</td>\n",
       "      <td>0.7119</td>\n",
       "      <td>0.2654</td>\n",
       "      <td>0.4601</td>\n",
       "      <td>0.11890</td>\n",
       "      <td>0</td>\n",
       "    </tr>\n",
       "    <tr>\n",
       "      <th>1</th>\n",
       "      <td>20.57</td>\n",
       "      <td>17.77</td>\n",
       "      <td>132.90</td>\n",
       "      <td>1326.0</td>\n",
       "      <td>0.08474</td>\n",
       "      <td>0.07864</td>\n",
       "      <td>0.0869</td>\n",
       "      <td>0.07017</td>\n",
       "      <td>0.1812</td>\n",
       "      <td>0.05667</td>\n",
       "      <td>...</td>\n",
       "      <td>23.41</td>\n",
       "      <td>158.80</td>\n",
       "      <td>1956.0</td>\n",
       "      <td>0.1238</td>\n",
       "      <td>0.1866</td>\n",
       "      <td>0.2416</td>\n",
       "      <td>0.1860</td>\n",
       "      <td>0.2750</td>\n",
       "      <td>0.08902</td>\n",
       "      <td>0</td>\n",
       "    </tr>\n",
       "    <tr>\n",
       "      <th>2</th>\n",
       "      <td>19.69</td>\n",
       "      <td>21.25</td>\n",
       "      <td>130.00</td>\n",
       "      <td>1203.0</td>\n",
       "      <td>0.10960</td>\n",
       "      <td>0.15990</td>\n",
       "      <td>0.1974</td>\n",
       "      <td>0.12790</td>\n",
       "      <td>0.2069</td>\n",
       "      <td>0.05999</td>\n",
       "      <td>...</td>\n",
       "      <td>25.53</td>\n",
       "      <td>152.50</td>\n",
       "      <td>1709.0</td>\n",
       "      <td>0.1444</td>\n",
       "      <td>0.4245</td>\n",
       "      <td>0.4504</td>\n",
       "      <td>0.2430</td>\n",
       "      <td>0.3613</td>\n",
       "      <td>0.08758</td>\n",
       "      <td>0</td>\n",
       "    </tr>\n",
       "    <tr>\n",
       "      <th>3</th>\n",
       "      <td>11.42</td>\n",
       "      <td>20.38</td>\n",
       "      <td>77.58</td>\n",
       "      <td>386.1</td>\n",
       "      <td>0.14250</td>\n",
       "      <td>0.28390</td>\n",
       "      <td>0.2414</td>\n",
       "      <td>0.10520</td>\n",
       "      <td>0.2597</td>\n",
       "      <td>0.09744</td>\n",
       "      <td>...</td>\n",
       "      <td>26.50</td>\n",
       "      <td>98.87</td>\n",
       "      <td>567.7</td>\n",
       "      <td>0.2098</td>\n",
       "      <td>0.8663</td>\n",
       "      <td>0.6869</td>\n",
       "      <td>0.2575</td>\n",
       "      <td>0.6638</td>\n",
       "      <td>0.17300</td>\n",
       "      <td>0</td>\n",
       "    </tr>\n",
       "    <tr>\n",
       "      <th>4</th>\n",
       "      <td>20.29</td>\n",
       "      <td>14.34</td>\n",
       "      <td>135.10</td>\n",
       "      <td>1297.0</td>\n",
       "      <td>0.10030</td>\n",
       "      <td>0.13280</td>\n",
       "      <td>0.1980</td>\n",
       "      <td>0.10430</td>\n",
       "      <td>0.1809</td>\n",
       "      <td>0.05883</td>\n",
       "      <td>...</td>\n",
       "      <td>16.67</td>\n",
       "      <td>152.20</td>\n",
       "      <td>1575.0</td>\n",
       "      <td>0.1374</td>\n",
       "      <td>0.2050</td>\n",
       "      <td>0.4000</td>\n",
       "      <td>0.1625</td>\n",
       "      <td>0.2364</td>\n",
       "      <td>0.07678</td>\n",
       "      <td>0</td>\n",
       "    </tr>\n",
       "  </tbody>\n",
       "</table>\n",
       "<p>5 rows × 31 columns</p>\n",
       "</div>"
      ],
      "text/plain": [
       "   mean radius  mean texture  mean perimeter  mean area  mean smoothness  \\\n",
       "0        17.99         10.38          122.80     1001.0          0.11840   \n",
       "1        20.57         17.77          132.90     1326.0          0.08474   \n",
       "2        19.69         21.25          130.00     1203.0          0.10960   \n",
       "3        11.42         20.38           77.58      386.1          0.14250   \n",
       "4        20.29         14.34          135.10     1297.0          0.10030   \n",
       "\n",
       "   mean compactness  mean concavity  mean concave points  mean symmetry  \\\n",
       "0           0.27760          0.3001              0.14710         0.2419   \n",
       "1           0.07864          0.0869              0.07017         0.1812   \n",
       "2           0.15990          0.1974              0.12790         0.2069   \n",
       "3           0.28390          0.2414              0.10520         0.2597   \n",
       "4           0.13280          0.1980              0.10430         0.1809   \n",
       "\n",
       "   mean fractal dimension  ...  worst texture  worst perimeter  worst area  \\\n",
       "0                 0.07871  ...          17.33           184.60      2019.0   \n",
       "1                 0.05667  ...          23.41           158.80      1956.0   \n",
       "2                 0.05999  ...          25.53           152.50      1709.0   \n",
       "3                 0.09744  ...          26.50            98.87       567.7   \n",
       "4                 0.05883  ...          16.67           152.20      1575.0   \n",
       "\n",
       "   worst smoothness  worst compactness  worst concavity  worst concave points  \\\n",
       "0            0.1622             0.6656           0.7119                0.2654   \n",
       "1            0.1238             0.1866           0.2416                0.1860   \n",
       "2            0.1444             0.4245           0.4504                0.2430   \n",
       "3            0.2098             0.8663           0.6869                0.2575   \n",
       "4            0.1374             0.2050           0.4000                0.1625   \n",
       "\n",
       "   worst symmetry  worst fractal dimension  target  \n",
       "0          0.4601                  0.11890       0  \n",
       "1          0.2750                  0.08902       0  \n",
       "2          0.3613                  0.08758       0  \n",
       "3          0.6638                  0.17300       0  \n",
       "4          0.2364                  0.07678       0  \n",
       "\n",
       "[5 rows x 31 columns]"
      ]
     },
     "execution_count": 23,
     "metadata": {},
     "output_type": "execute_result"
    }
   ],
   "source": [
    "# load cancer data from sklearn library\n",
    "cancer=datasets.load_breast_cancer()\n",
    "X = cancer.data\n",
    "Y = cancer.target\n",
    "\n",
    "# Create a dataframe and add additional column taget \n",
    "data_frame = pd.DataFrame(X, columns=cancer.feature_names)\n",
    "data_frame['target']=Y\n",
    "data_frame.head()"
   ]
  },
  {
   "cell_type": "code",
   "execution_count": null,
   "metadata": {},
   "outputs": [],
   "source": []
  },
  {
   "cell_type": "markdown",
   "metadata": {},
   "source": [
    "##### Now do SVM classification"
   ]
  },
  {
   "cell_type": "code",
   "execution_count": 24,
   "metadata": {},
   "outputs": [],
   "source": [
    "# split the dataset using 70% for training and the remaining 30% for testing\n",
    "#X_train,X_test,Y_train,Y_test = train_test_split(X,Y, test_size=0.3)\n",
    "\n",
    "from sklearn.model_selection import train_test_split\n",
    "X_train,X_test,Y_train,Y_test = train_test_split(X,Y, test_size=0.3)"
   ]
  },
  {
   "cell_type": "code",
   "execution_count": 25,
   "metadata": {},
   "outputs": [],
   "source": [
    "C = 1.0  # SVM regularization parameter: penalise misclassified examples\n",
    " \n",
    "# SVC with linear kernel\n",
    "svc = svm.SVC(C=C, kernel='linear')# put your code here ...\n",
    "svc.fit(X_train, Y_train) # fit the model\n",
    "\n",
    "# get the prediction of test set for each SVM\n",
    "svc_pred = svc.predict(X_test) # predict the test set\n",
    "\n"
   ]
  },
  {
   "cell_type": "markdown",
   "metadata": {},
   "source": [
    "#### Create a confusion matrix and classification report for a classifer on test set.\n",
    "\n",
    "Confusion matrix has been mentioned in week 4 lecture.\n",
    "\n",
    "Classification report provides a good way to summarise the prediction power of classifiers. Here are two links to help you understand how it works:\n",
    "    \n",
    "https://muthu.co/understanding-the-classification-report-in-sklearn/\n",
    "\n",
    "http://www.thedatalife.com/classification-report-python/\n",
    "\n",
    "In what follows you are given an example on how to do this"
   ]
  },
  {
   "cell_type": "code",
   "execution_count": 12,
   "metadata": {},
   "outputs": [
    {
     "name": "stdout",
     "output_type": "stream",
     "text": [
      "                predicted_cancer  predicted_healthy\n",
      "actual_cancer                 96                  2\n",
      "actual_healthy                 7                 66\n"
     ]
    }
   ],
   "source": [
    "from sklearn.metrics import classification_report, confusion_matrix\n",
    "svc_cm=np.array(confusion_matrix(Y_test, svc_pred, labels=[1,0]))\n",
    "svc_confusion=pd.DataFrame(svc_cm, index=['actual_cancer', 'actual_healthy'], columns=['predicted_cancer', 'predicted_healthy'])\n",
    "print(svc_confusion)"
   ]
  },
  {
   "cell_type": "code",
   "execution_count": 13,
   "metadata": {
    "scrolled": true
   },
   "outputs": [
    {
     "name": "stdout",
     "output_type": "stream",
     "text": [
      "              precision    recall  f1-score   support\n",
      "\n",
      "           0       0.97      0.90      0.94        73\n",
      "           1       0.93      0.98      0.96        98\n",
      "\n",
      "    accuracy                           0.95       171\n",
      "   macro avg       0.95      0.94      0.95       171\n",
      "weighted avg       0.95      0.95      0.95       171\n",
      "\n"
     ]
    }
   ],
   "source": [
    "# display classification report\n",
    "print(classification_report(Y_test, svc_pred))"
   ]
  },
  {
   "cell_type": "markdown",
   "metadata": {},
   "source": [
    "Now it is your turn to create confusion matrix and classification report for the other three classifiers"
   ]
  },
  {
   "cell_type": "markdown",
   "metadata": {},
   "source": [
    "#### ROC CURVE\n",
    "\n",
    "ROC Curve (Receiver Operating Characteristics)  is a performance measurement for classification problem at various thresholds settings. It tells how much model is capable of distinguishing between classes.\n",
    "\n",
    "sklearn provides the *roc_curve* function to create a series of FPR (false positive rate) and TPR (true positive rate) pairs for different classification threshold values. For SVM, once getting the desicion function value: f(x,w)=$w^Tx+w_0$, we can use a threshold to determine the class lable of x. For example, x is classified to be positive if f(x,w)>b. The prediction changes with the threshold b. For all possible values of b, we get pairs of FPR and TPR, from which we can plot ROC curve.\n",
    "\n",
    "The following examples show you have a ROC curve is created for SVC on the cancer dataset. Can you do the same thing for the other three classifiers ?"
   ]
  },
  {
   "cell_type": "code",
   "execution_count": 14,
   "metadata": {
    "scrolled": false
   },
   "outputs": [
    {
     "data": {
      "text/plain": [
       "<matplotlib.legend.Legend at 0x186addb31f0>"
      ]
     },
     "execution_count": 14,
     "metadata": {},
     "output_type": "execute_result"
    },
    {
     "data": {
      "image/png": "[encoded data removed]",
      "text/plain": [
       "<Figure size 576x360 with 1 Axes>"
      ]
     },
     "metadata": {
      "needs_background": "light"
     },
     "output_type": "display_data"
    }
   ],
   "source": [
    "# import the roc_curve library\n",
    "from sklearn.metrics import roc_curve\n",
    "# calculate the decision function value for each data point, which is the value of f(x,w)=w^Tx+w_0 in SVM\n",
    "y_score = svc.decision_function(X_test) \n",
    "\n",
    "# please note the difference between decision_function and predict in the output \n",
    "# if you want to know how different they are, just print the ouput values:\n",
    "# y_pred=svc.predict(X_test)\n",
    "# print(y_score, y_pred)\n",
    "\n",
    "# get pairs of FPR and TPR for different threshold values\n",
    "fpr, tpr, thresholds = roc_curve(Y_test, y_score)\n",
    " \n",
    "# plot the roc_curve\n",
    "fig, ax = plt.subplots(1, figsize=(8, 5))\n",
    "plt.plot(fpr, tpr, color='blue', label='ROC curve for SVC')\n",
    "plt.plot([0, 1], [0, 1], 'k--')\n",
    "plt.xlabel('False Positive Rate (1 - specificity)')\n",
    "plt.ylabel('True Positive Rate (sensitivity)')\n",
    "plt.title('ROC Curve for Breast Cancer Classifer')\n",
    "plt.legend(loc=\"lower right\")"
   ]
  },
  {
   "cell_type": "markdown",
   "metadata": {},
   "source": [
    "# Exercise\n",
    "Perform all of the above tasks for few more kernel options in SVM"
   ]
  },
  {
   "cell_type": "code",
   "execution_count": 15,
   "metadata": {},
   "outputs": [
    {
     "name": "stderr",
     "output_type": "stream",
     "text": [
      "No artists with labels found to put in legend.  Note that artists whose label start with an underscore are ignored when legend() is called with no argument.\n",
      "No artists with labels found to put in legend.  Note that artists whose label start with an underscore are ignored when legend() is called with no argument.\n",
      "No artists with labels found to put in legend.  Note that artists whose label start with an underscore are ignored when legend() is called with no argument.\n"
     ]
    },
    {
     "data": {
      "image/png": "[encoded data removed]",
      "text/plain": [
       "<Figure size 576x1152 with 3 Axes>"
      ]
     },
     "metadata": {
      "needs_background": "light"
     },
     "output_type": "display_data"
    }
   ],
   "source": [
    "\n",
    "# LinearSVC (linear kernel)\n",
    "lin_svc = svm.SVC(C=1.0, kernel='linear')\n",
    "lin_svc.fit(X_train, Y_train)\n",
    "lin_svc_score = lin_svc.decision_function(X_test)\n",
    "lin_fpr, lin_tpr, lin_thresholds = roc_curve(Y_test, lin_svc_score)\n",
    "\n",
    "# SVC with RBF kernel\n",
    "rbf_svc = svm.SVC(C=1.0, kernel='rbf')\n",
    "rbf_svc.fit(X_train, Y_train)\n",
    "rbf_svc_score = rbf_svc.decision_function(X_test)\n",
    "rbf_fpr, rbf_tpr, rbf_thresholds = roc_curve(Y_test, rbf_svc_score)\n",
    "\n",
    "# SVC with polynomial (degree 3) kernel\n",
    "poly_svc = svm.SVC(C=1.0, kernel='poly')\n",
    "poly_svc.fit(X_train, Y_train)\n",
    "poly_svc_score = poly_svc.decision_function(X_test)\n",
    "poly_fpr, poly_tpr, poly_thresholds = roc_curve(Y_test, poly_svc_score)\n",
    "\n",
    " \n",
    "# create our 3 subplots\n",
    "fig, (ax1, ax2, ax3) = plt.subplots(nrows=3, figsize=(8, 16))\n",
    "ax1.set_title('ROC curve for Linear SVC')\n",
    "ax2.set_title('ROC curve for RBF SVC')\n",
    "ax3.set_title('ROC curve for Polynomial SVC')\n",
    "def plotAxis(ax, fpr, tpr):\n",
    "    ax.plot(fpr, tpr, color='blue')\n",
    "    ax.plot([0, 1], [0, 1], 'k--')\n",
    "    ax.set_xlabel('False Positive Rate (1 - specificity)')\n",
    "    ax.set_ylabel('True Positive Rate (sensitivity)')\n",
    "    #ax.set_title('ROC Curve for Breast Cancer Classifer')\n",
    "    ax.legend(loc=\"lower right\")\n",
    "\n",
    "plotAxis(ax1, lin_fpr, lin_tpr)\n",
    "plotAxis(ax2, rbf_fpr, rbf_tpr)\n",
    "plotAxis(ax3, poly_fpr, poly_tpr)\n"
   ]
  },
  {
   "cell_type": "markdown",
   "metadata": {},
   "source": [
    "# Confusion Matrix, ROC\n",
    "Now it is turn to create confusion matrix, classification report and ROC for the other three classifiers"
   ]
  },
  {
   "cell_type": "code",
   "execution_count": 16,
   "metadata": {},
   "outputs": [],
   "source": [
    "# ??"
   ]
  }
 ],
 "metadata": {
  "kernelspec": {
   "display_name": "Python 3.9.12 ('base')",
   "language": "python",
   "name": "python3"
  },
  "language_info": {
   "codemirror_mode": {
    "name": "ipython",
    "version": 3
   },
   "file_extension": ".py",
   "mimetype": "text/x-python",
   "name": "python",
   "nbconvert_exporter": "python",
   "pygments_lexer": "ipython3",
   "version": "3.9.12"
  },
  "vscode": {
   "interpreter": {
    "hash": "88279d2366fe020547cde40dd65aa0e3aa662a6ec1f3ca12d88834876c85e1a6"
   }
  }
 },
 "nbformat": 4,
 "nbformat_minor": 2
}
