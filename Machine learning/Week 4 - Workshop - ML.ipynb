{
 "cells": [
  {
   "cell_type": "markdown",
   "metadata": {},
   "source": [
    "# Machine Learning Workshop: Week 4\n",
    "In this workshop, you will use Python to implement the KNN (DO NOT USE PYTHON LIBARIES OF KNN) introduced in the Lecture on the iris dataset. You will also be asked to use SVM algorithms available in scikit-learn to do classification on other datasets.\n",
    "\n",
    "### Iris dataset description\n",
    "The IRIS dataset is a good example of multi-classification. The dataset we will use has 150 observations of iris flowers from three different species, hence three classes: setosa, versicolor and virginica. There are four attributes in the data: sepal length, sepal width, petal length and petal width.\n",
    " \n",
    " The data can be loaded from `sklearn' using Python. \n",
    " \n",
    " >from sklearn import datasets\n",
    " \n",
    " >iris=datasets.load_iris()\n"
   ]
  },
  {
   "cell_type": "markdown",
   "metadata": {},
   "source": [
    "## Excercise 1:\n",
    "Your code to implement KNN algorithm should include the following functions:\n",
    "\n",
    "a. Load the data set; return 90% as train data and 10% as test data \n",
    "\n",
    "b. Normalize the features\n",
    "\n",
    "c. Calculate the Euclidean distance between any two points\n",
    "\n",
    "d. Find the neighbours given a test data point and number k\n",
    "\n",
    "e. Get the class labels; you should also handle ties\n",
    "\n",
    "f. Calculate prediction accuracy\n",
    "\n",
    "Note: you need to implement each function yourself instead of using python libraries.\n"
   ]
  },
  {
   "cell_type": "code",
   "execution_count": 1,
   "metadata": {},
   "outputs": [],
   "source": [
    "from sklearn import datasets, preprocessing\n",
    "import numpy as np\n",
    "import math\n",
    "import operator\n",
    "rate = 0.9\n",
    "k = 3\n",
    "\n",
    "# This function is to load the IRIS data, shuffle it and split it into training and test\n",
    "# data set\n",
    "def get_data():\n",
    "    # load data\n",
    "    iris = datasets.load_iris()\n",
    "    iris_feature=iris.data\n",
    "    iris_label=iris.target\n",
    "                          \n",
    "    num_sample=len(iris_label)\n",
    "    #iris_label=np.reshape(iris_label,(num_sample,))\n",
    "    \n",
    "    iris_normalised_feature=normalise(iris_feature)\n",
    "    \n",
    "    iris_data=np.column_stack((iris_normalised_feature, iris_label))\n",
    "    np.random.shuffle(iris_data)\n",
    "    \n",
    "    \n",
    "    iris_train=iris_data[0:int(rate*num_sample),:]\n",
    "    iris_test=iris_data[int(rate*num_sample):,:]\n",
    "    return iris_train, iris_test\n",
    "    #iris_train, iris_test = get_data()"
   ]
  },
  {
   "cell_type": "code",
   "execution_count": 2,
   "metadata": {},
   "outputs": [],
   "source": [
    "# This function is to normalise the data features, each feature is normalised to norm 1\n",
    "def normalise(data):\n",
    "    feature=data[:,0:4]\n",
    "    # normalise data features\n",
    "    #     normalised_feature=preprocessing.normalise(feature,'l2', axis=0)\n",
    "    max_feature=np.max(feature)\n",
    "    min_feature=np.min(feature)\n",
    "    normalised_feature=(feature-min_feature)/(max_feature-min_feature)\n",
    "    \n",
    "    return normalised_feature\n",
    "    #data_normalised = normalise(iris_train)"
   ]
  },
  {
   "cell_type": "code",
   "execution_count": 3,
   "metadata": {},
   "outputs": [],
   "source": [
    "# This function is to calculate Euclidean distance between two samples\n",
    "def getdistance(sample1, sample2):\n",
    "    # Euclidean distance between two samples\n",
    "    length = len(sample1)\n",
    "    dist = 0\n",
    "    for i in range(length):\n",
    "        dist += pow(sample1[i]-sample2[i], 2)\n",
    "    return math.sqrt(dist)\n",
    "    #dist = getdistance(data_normalised[0,:],data_normalised[1,:])"
   ]
  },
  {
   "cell_type": "code",
   "execution_count": 4,
   "metadata": {},
   "outputs": [],
   "source": [
    "# This function is to find the k neighbours for the test sample from traning samples\n",
    "def findNeighbours(training_data, test_sample, k):\n",
    "# find the k neighbours for the test sample from traning samples\n",
    "    distances = []\n",
    "    for i in range(len(training_data)):\n",
    "        dist = getdistance(test_sample[0:-1], training_data[i,0:-1])\n",
    "        distances.append((training_data[i],dist))\n",
    "\n",
    "    distances.sort(key=operator.itemgetter(1))\n",
    "    neighbours = []\n",
    "    for i in range(k):\n",
    "        neighbours.append(distances[i][0])\n",
    "    return neighbours\n",
    "    #neighbours = findNeighbours(iris_train, iris_test[0,:], k)\n",
    "    "
   ]
  },
  {
   "cell_type": "code",
   "execution_count": 5,
   "metadata": {},
   "outputs": [],
   "source": [
    "# This function is to find the most probable neighbour\n",
    "def getClass(neighbours):\n",
    "# find the most probable neighbour\n",
    "    classvotes = {}\n",
    "    for i in range(len(neighbours)):\n",
    "        response = neighbours[i][-1]\n",
    "    if response in classvotes:\n",
    "        classvotes[response] += 1\n",
    "    else:\n",
    "        classvotes[response] = 1\n",
    "        \n",
    "    sortedVotes = sorted(classvotes, reverse=True)\n",
    "    return sortedVotes[0]\n",
    "    #votes = getClass(neighbours)"
   ]
  },
  {
   "cell_type": "code",
   "execution_count": 6,
   "metadata": {},
   "outputs": [],
   "source": [
    "# This function is to calculate accuracy\n",
    "def get_accuracy(test_sample, prediction):\n",
    "    correct = 0\n",
    "    for i in range(len(test_sample)):\n",
    "        if test_sample[i][-1] == prediction[i]:\n",
    "            correct += 1\n",
    "    \n",
    "    rate_correct = (correct/len(test_sample))* 100.0\n",
    "    return rate_correct"
   ]
  },
  {
   "cell_type": "code",
   "execution_count": 7,
   "metadata": {
    "scrolled": true
   },
   "outputs": [
    {
     "name": "stdout",
     "output_type": "stream",
     "text": [
      "> predicted=2.0, actual=1.0\n",
      "> predicted=1.0, actual=1.0\n",
      "> predicted=1.0, actual=1.0\n",
      "> predicted=0.0, actual=0.0\n",
      "> predicted=0.0, actual=0.0\n",
      "> predicted=1.0, actual=1.0\n",
      "> predicted=2.0, actual=2.0\n",
      "> predicted=0.0, actual=0.0\n",
      "> predicted=0.0, actual=0.0\n",
      "> predicted=1.0, actual=1.0\n",
      "> predicted=2.0, actual=2.0\n",
      "> predicted=0.0, actual=0.0\n",
      "> predicted=2.0, actual=2.0\n",
      "> predicted=1.0, actual=1.0\n",
      "> predicted=1.0, actual=1.0\n",
      "Accuracy: 93.33333333333333%\n"
     ]
    }
   ],
   "source": [
    "# This is the main function which shall call the functions you write above and realise classification \n",
    "def main():\n",
    "    # obtain data\n",
    "    iris_train, iris_test = get_data()\n",
    "    # obtain predictions\n",
    "    predictions = []\n",
    "    for i in range(len(iris_test)):\n",
    "        neighbours = findNeighbours(iris_train, iris_test[i,:], k)\n",
    "        votes = getClass(neighbours)\n",
    "        predictions.append(votes)\n",
    "        print('> predicted=' + repr(votes) + ', actual=' + repr(iris_test[i][-1]))\n",
    "        \n",
    "    accuracy = get_accuracy(iris_test,predictions)\n",
    "    print('Accuracy: ' + repr(accuracy) + '%')\n",
    "\n",
    "main()"
   ]
  },
  {
   "cell_type": "markdown",
   "metadata": {},
   "source": [
    "### Excercise 2:\n",
    "\n",
    "You have learnt SVM for binary classification. Now it is time to test your learning for classifying a real dataset with binary labels. The data you are going to use is the breast cancer dataset provided by scikit-learn, each record of which has 10 attributes of cell nucleus (radius, texture, perimeter, area, etc.) and a class lable with malignant (begign) indicating cancerous (non-cancerous).\n",
    "\n",
    "The dataset can be loaded from `sklearn' using Python. \n",
    "\n",
    " >from sklearn import datasets\n",
    " \n",
    " >iris=datasets.load_breast_cancer()\n",
    "\n",
    "\n",
    "Your SVM code should include the following functions:\n",
    "\n",
    "a. Load the data set; return 70% as train data and 30% as test data (you can use train_test_split function)\n",
    "\n",
    "b. Visualise the relationship between petal (sepal) and target classes: petal (sepal) length values on X-axis and width values on Y-axis.\n",
    "\n",
    "c. Build SVMs with four different kernels (linear, RBF, sigmoid, polynomial)\n",
    "\n",
    "d. Create confusion matrix and classification report (which is described later)\n",
    "\n",
    "f. Create receiver operating characteristic (ROC) curve"
   ]
  },
  {
   "cell_type": "code",
   "execution_count": 8,
   "metadata": {},
   "outputs": [],
   "source": [
    "# Required Packages\n",
    "from sklearn import datasets\t\t# To Get iris dataset\n",
    "from sklearn import svm    \t\t\t# To fit the svm classifier\n",
    "import numpy as np\n",
    "import pandas as pd\n",
    "import matplotlib.pyplot as plt            # To visuvalizing the data\n",
    "import warnings\n",
    "warnings.filterwarnings(\"ignore\")"
   ]
  },
  {
   "cell_type": "code",
   "execution_count": 9,
   "metadata": {
    "scrolled": false
   },
   "outputs": [
    {
     "data": {
      "text/html": [
       "<div>\n",
       "<style scoped>\n",
       "    .dataframe tbody tr th:only-of-type {\n",
       "        vertical-align: middle;\n",
       "    }\n",
       "\n",
       "    .dataframe tbody tr th {\n",
       "        vertical-align: top;\n",
       "    }\n",
       "\n",
       "    .dataframe thead th {\n",
       "        text-align: right;\n",
       "    }\n",
       "</style>\n",
       "<table border=\"1\" class=\"dataframe\">\n",
       "  <thead>\n",
       "    <tr style=\"text-align: right;\">\n",
       "      <th></th>\n",
       "      <th>mean radius</th>\n",
       "      <th>mean texture</th>\n",
       "      <th>mean perimeter</th>\n",
       "      <th>mean area</th>\n",
       "      <th>mean smoothness</th>\n",
       "      <th>mean compactness</th>\n",
       "      <th>mean concavity</th>\n",
       "      <th>mean concave points</th>\n",
       "      <th>mean symmetry</th>\n",
       "      <th>mean fractal dimension</th>\n",
       "      <th>...</th>\n",
       "      <th>worst texture</th>\n",
       "      <th>worst perimeter</th>\n",
       "      <th>worst area</th>\n",
       "      <th>worst smoothness</th>\n",
       "      <th>worst compactness</th>\n",
       "      <th>worst concavity</th>\n",
       "      <th>worst concave points</th>\n",
       "      <th>worst symmetry</th>\n",
       "      <th>worst fractal dimension</th>\n",
       "      <th>target</th>\n",
       "    </tr>\n",
       "  </thead>\n",
       "  <tbody>\n",
       "    <tr>\n",
       "      <th>0</th>\n",
       "      <td>17.99</td>\n",
       "      <td>10.38</td>\n",
       "      <td>122.80</td>\n",
       "      <td>1001.0</td>\n",
       "      <td>0.11840</td>\n",
       "      <td>0.27760</td>\n",
       "      <td>0.3001</td>\n",
       "      <td>0.14710</td>\n",
       "      <td>0.2419</td>\n",
       "      <td>0.07871</td>\n",
       "      <td>...</td>\n",
       "      <td>17.33</td>\n",
       "      <td>184.60</td>\n",
       "      <td>2019.0</td>\n",
       "      <td>0.1622</td>\n",
       "      <td>0.6656</td>\n",
       "      <td>0.7119</td>\n",
       "      <td>0.2654</td>\n",
       "      <td>0.4601</td>\n",
       "      <td>0.11890</td>\n",
       "      <td>0</td>\n",
       "    </tr>\n",
       "    <tr>\n",
       "      <th>1</th>\n",
       "      <td>20.57</td>\n",
       "      <td>17.77</td>\n",
       "      <td>132.90</td>\n",
       "      <td>1326.0</td>\n",
       "      <td>0.08474</td>\n",
       "      <td>0.07864</td>\n",
       "      <td>0.0869</td>\n",
       "      <td>0.07017</td>\n",
       "      <td>0.1812</td>\n",
       "      <td>0.05667</td>\n",
       "      <td>...</td>\n",
       "      <td>23.41</td>\n",
       "      <td>158.80</td>\n",
       "      <td>1956.0</td>\n",
       "      <td>0.1238</td>\n",
       "      <td>0.1866</td>\n",
       "      <td>0.2416</td>\n",
       "      <td>0.1860</td>\n",
       "      <td>0.2750</td>\n",
       "      <td>0.08902</td>\n",
       "      <td>0</td>\n",
       "    </tr>\n",
       "    <tr>\n",
       "      <th>2</th>\n",
       "      <td>19.69</td>\n",
       "      <td>21.25</td>\n",
       "      <td>130.00</td>\n",
       "      <td>1203.0</td>\n",
       "      <td>0.10960</td>\n",
       "      <td>0.15990</td>\n",
       "      <td>0.1974</td>\n",
       "      <td>0.12790</td>\n",
       "      <td>0.2069</td>\n",
       "      <td>0.05999</td>\n",
       "      <td>...</td>\n",
       "      <td>25.53</td>\n",
       "      <td>152.50</td>\n",
       "      <td>1709.0</td>\n",
       "      <td>0.1444</td>\n",
       "      <td>0.4245</td>\n",
       "      <td>0.4504</td>\n",
       "      <td>0.2430</td>\n",
       "      <td>0.3613</td>\n",
       "      <td>0.08758</td>\n",
       "      <td>0</td>\n",
       "    </tr>\n",
       "    <tr>\n",
       "      <th>3</th>\n",
       "      <td>11.42</td>\n",
       "      <td>20.38</td>\n",
       "      <td>77.58</td>\n",
       "      <td>386.1</td>\n",
       "      <td>0.14250</td>\n",
       "      <td>0.28390</td>\n",
       "      <td>0.2414</td>\n",
       "      <td>0.10520</td>\n",
       "      <td>0.2597</td>\n",
       "      <td>0.09744</td>\n",
       "      <td>...</td>\n",
       "      <td>26.50</td>\n",
       "      <td>98.87</td>\n",
       "      <td>567.7</td>\n",
       "      <td>0.2098</td>\n",
       "      <td>0.8663</td>\n",
       "      <td>0.6869</td>\n",
       "      <td>0.2575</td>\n",
       "      <td>0.6638</td>\n",
       "      <td>0.17300</td>\n",
       "      <td>0</td>\n",
       "    </tr>\n",
       "    <tr>\n",
       "      <th>4</th>\n",
       "      <td>20.29</td>\n",
       "      <td>14.34</td>\n",
       "      <td>135.10</td>\n",
       "      <td>1297.0</td>\n",
       "      <td>0.10030</td>\n",
       "      <td>0.13280</td>\n",
       "      <td>0.1980</td>\n",
       "      <td>0.10430</td>\n",
       "      <td>0.1809</td>\n",
       "      <td>0.05883</td>\n",
       "      <td>...</td>\n",
       "      <td>16.67</td>\n",
       "      <td>152.20</td>\n",
       "      <td>1575.0</td>\n",
       "      <td>0.1374</td>\n",
       "      <td>0.2050</td>\n",
       "      <td>0.4000</td>\n",
       "      <td>0.1625</td>\n",
       "      <td>0.2364</td>\n",
       "      <td>0.07678</td>\n",
       "      <td>0</td>\n",
       "    </tr>\n",
       "  </tbody>\n",
       "</table>\n",
       "<p>5 rows × 31 columns</p>\n",
       "</div>"
      ],
      "text/plain": [
       "   mean radius  mean texture  mean perimeter  mean area  mean smoothness  \\\n",
       "0        17.99         10.38          122.80     1001.0          0.11840   \n",
       "1        20.57         17.77          132.90     1326.0          0.08474   \n",
       "2        19.69         21.25          130.00     1203.0          0.10960   \n",
       "3        11.42         20.38           77.58      386.1          0.14250   \n",
       "4        20.29         14.34          135.10     1297.0          0.10030   \n",
       "\n",
       "   mean compactness  mean concavity  mean concave points  mean symmetry  \\\n",
       "0           0.27760          0.3001              0.14710         0.2419   \n",
       "1           0.07864          0.0869              0.07017         0.1812   \n",
       "2           0.15990          0.1974              0.12790         0.2069   \n",
       "3           0.28390          0.2414              0.10520         0.2597   \n",
       "4           0.13280          0.1980              0.10430         0.1809   \n",
       "\n",
       "   mean fractal dimension  ...  worst texture  worst perimeter  worst area  \\\n",
       "0                 0.07871  ...          17.33           184.60      2019.0   \n",
       "1                 0.05667  ...          23.41           158.80      1956.0   \n",
       "2                 0.05999  ...          25.53           152.50      1709.0   \n",
       "3                 0.09744  ...          26.50            98.87       567.7   \n",
       "4                 0.05883  ...          16.67           152.20      1575.0   \n",
       "\n",
       "   worst smoothness  worst compactness  worst concavity  worst concave points  \\\n",
       "0            0.1622             0.6656           0.7119                0.2654   \n",
       "1            0.1238             0.1866           0.2416                0.1860   \n",
       "2            0.1444             0.4245           0.4504                0.2430   \n",
       "3            0.2098             0.8663           0.6869                0.2575   \n",
       "4            0.1374             0.2050           0.4000                0.1625   \n",
       "\n",
       "   worst symmetry  worst fractal dimension  target  \n",
       "0          0.4601                  0.11890       0  \n",
       "1          0.2750                  0.08902       0  \n",
       "2          0.3613                  0.08758       0  \n",
       "3          0.6638                  0.17300       0  \n",
       "4          0.2364                  0.07678       0  \n",
       "\n",
       "[5 rows x 31 columns]"
      ]
     },
     "execution_count": 9,
     "metadata": {},
     "output_type": "execute_result"
    }
   ],
   "source": [
    "# load cancer data from sklearn library\n",
    "cancer=datasets.load_breast_cancer()\n",
    "X = cancer.data\n",
    "Y = cancer.target\n",
    "\n",
    "# Create a dataframe and add additional column taget \n",
    "data_frame = pd.DataFrame(X, columns=cancer.feature_names)\n",
    "data_frame['target']=Y\n",
    "data_frame.head()\n"
   ]
  },
  {
   "cell_type": "code",
   "execution_count": null,
   "metadata": {},
   "outputs": [],
   "source": []
  },
  {
   "cell_type": "markdown",
   "metadata": {},
   "source": [
    "##### Now do SVM classification"
   ]
  },
  {
   "cell_type": "code",
   "execution_count": 10,
   "metadata": {},
   "outputs": [],
   "source": [
    "# split the dataset using 70% for training and the remaining 30% for testing\n",
    "from sklearn.model_selection import train_test_split\n",
    "X_train,X_test,Y_train,Y_test = train_test_split(X,Y, test_size=0.3)"
   ]
  },
  {
   "cell_type": "code",
   "execution_count": 11,
   "metadata": {},
   "outputs": [],
   "source": [
    "C = 1.0  # SVM regularization parameter: penalise misclassified examples\n",
    " \n",
    "# SVC with linear kernel\n",
    "svc = svm.SVC(kernel='linear').fit(X_train, Y_train)\n",
    "\n",
    "# get the prediction for each SVM\n",
    "svc_pred = svc.predict(X_test)\n"
   ]
  },
  {
   "cell_type": "markdown",
   "metadata": {},
   "source": [
    "#### Create a confusion matrix and classification report for a classifer on test set.\n",
    "\n",
    "Confusion matrix has been mentioned in week 2 lecture.\n",
    "\n",
    "Classification report provides a good way to summarise the prediction power of classifiers. Here are two links to help you understand how it works:\n",
    "    \n",
    "https://muthu.co/understanding-the-classification-report-in-sklearn/\n",
    "\n",
    "http://www.thedatalife.com/classification-report-python/\n",
    "\n",
    "In what follows you are given an example on how to do this"
   ]
  },
  {
   "cell_type": "code",
   "execution_count": 12,
   "metadata": {},
   "outputs": [
    {
     "name": "stdout",
     "output_type": "stream",
     "text": [
      "                predicted_cancer  predicted_healthy\n",
      "actual_cancer                107                  3\n",
      "actual_healthy                 1                 60\n"
     ]
    }
   ],
   "source": [
    "from sklearn.metrics import classification_report, confusion_matrix\n",
    "svc_cm=np.array(confusion_matrix(Y_test, svc_pred, labels=[1,0]))\n",
    "svc_confusion=pd.DataFrame(svc_cm, index=['actual_cancer', 'actual_healthy'], columns=['predicted_cancer', 'predicted_healthy'])\n",
    "print(svc_confusion)"
   ]
  },
  {
   "cell_type": "code",
   "execution_count": 13,
   "metadata": {
    "scrolled": true
   },
   "outputs": [
    {
     "name": "stdout",
     "output_type": "stream",
     "text": [
      "              precision    recall  f1-score   support\n",
      "\n",
      "           0       0.95      0.98      0.97        61\n",
      "           1       0.99      0.97      0.98       110\n",
      "\n",
      "    accuracy                           0.98       171\n",
      "   macro avg       0.97      0.98      0.97       171\n",
      "weighted avg       0.98      0.98      0.98       171\n",
      "\n"
     ]
    }
   ],
   "source": [
    "# display classification report\n",
    "print(classification_report(Y_test, svc_pred))"
   ]
  },
  {
   "cell_type": "markdown",
   "metadata": {},
   "source": [
    "#### ROC CURVE\n",
    "\n",
    "ROC Curve (Receiver Operating Characteristics)  is a performance measurement for classification problem at various thresholds settings. It tells how much model is capable of distinguishing between classes.\n",
    "\n",
    "sklearn provides the *roc_curve* function to create a series of FPR and TPR pairs for different classification threshold values. The following examples show you have a ROC curve is created for SVC on the cancer dataset. Can you do the same thing for the other three classifiers ?"
   ]
  },
  {
   "cell_type": "code",
   "execution_count": 14,
   "metadata": {
    "scrolled": false
   },
   "outputs": [
    {
     "data": {
      "text/plain": [
       "<matplotlib.legend.Legend at 0x7f52742179a0>"
      ]
     },
     "execution_count": 14,
     "metadata": {},
     "output_type": "execute_result"
    },
    {
     "data": {
      "image/png": "[encoded data removed]",
      "text/plain": [
       "<Figure size 800x500 with 1 Axes>"
      ]
     },
     "metadata": {},
     "output_type": "display_data"
    }
   ],
   "source": [
    "# import the roc_curve library\n",
    "from sklearn.metrics import roc_curve\n",
    "# calculate the decision function value for each data point, which is the value of w^Tx+w_0 in SVM\n",
    "y_score = svc.decision_function(X_test) \n",
    "\n",
    "# please note the difference between decision_function and predict in the output \n",
    "# if you want to know how different they are, just print the ouput values:\n",
    "# y_pred=svc.predict(X_test)\n",
    "# print(y_score, y_pred)\n",
    "\n",
    "# get pairs of FPR and TPR for different threshold values\n",
    "fpr, tpr, thresholds = roc_curve(Y_test, y_score)\n",
    " \n",
    "# plot the roc_curve\n",
    "fig, ax = plt.subplots(1, figsize=(8, 5))\n",
    "plt.plot(fpr, tpr, color='blue', label='ROC curve for SVC')\n",
    "plt.plot([0, 1], [0, 1], 'k--')\n",
    "plt.xlabel('False Positive Rate (1 - specificity)')\n",
    "plt.ylabel('True Positive Rate (sensitivity)')\n",
    "plt.title('ROC Curve for Breast Cancer Classifer')\n",
    "plt.legend(loc=\"lower right\")"
   ]
  }
 ],
 "metadata": {
  "kernelspec": {
   "display_name": "Python 3.10.7 64-bit",
   "language": "python",
   "name": "python3"
  },
  "language_info": {
   "codemirror_mode": {
    "name": "ipython",
    "version": 3
   },
   "file_extension": ".py",
   "mimetype": "text/x-python",
   "name": "python",
   "nbconvert_exporter": "python",
   "pygments_lexer": "ipython3",
   "version": "3.10.7"
  },
  "vscode": {
   "interpreter": {
    "hash": "916dbcbb3f70747c44a77c7bcd40155683ae19c65e1c03b4aa3499c5328201f1"
   }
  }
 },
 "nbformat": 4,
 "nbformat_minor": 2
}
