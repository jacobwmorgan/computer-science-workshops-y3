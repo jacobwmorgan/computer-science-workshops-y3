{
 "cells": [
  {
   "cell_type": "markdown",
   "metadata": {},
   "source": [
    "# Machine Learning 2022<br>\n",
    "Week 1 - Workshop on Python preliminaries <br>\n",
    "Joseph Smith <br>\n",
    "\n",
    "# INTRODUCTION <br>\n",
    "\n",
    "This week is devoted on introducing the module and you having the chance to (re) visit some basic principles on python. It also provide you with an introduction to Anaconda and the use of notebook for writing code interactively.\n",
    "There exists a set of simple examples on numpy. \n",
    "\n",
    "\n",
    "#  Solutions\n",
    "\n",
    "Please try to fill the gaps in the code below"
   ]
  },
  {
   "cell_type": "code",
   "execution_count": 1,
   "metadata": {},
   "outputs": [
    {
     "name": "stdout",
     "output_type": "stream",
     "text": [
      "1.23.4\n"
     ]
    }
   ],
   "source": [
    "#Import numpy as np and print the version number\n",
    "#####\n",
    "import numpy as np\n",
    "\n",
    "print(np.__version__)\n",
    "\n",
    "#####"
   ]
  },
  {
   "cell_type": "code",
   "execution_count": 2,
   "metadata": {},
   "outputs": [
    {
     "name": "stdout",
     "output_type": "stream",
     "text": [
      "[0 1 2 3 4 5 6 7 8]\n"
     ]
    }
   ],
   "source": [
    "#Create a 1D array of numbers from 0 to 8\n",
    "arr = np.arange(9)\n",
    "print (arr)"
   ]
  },
  {
   "cell_type": "code",
   "execution_count": 4,
   "metadata": {},
   "outputs": [
    {
     "data": {
      "text/plain": [
       "array([[ True,  True,  True,  True,  True],\n",
       "       [ True,  True,  True,  True,  True],\n",
       "       [ True,  True,  True,  True,  True],\n",
       "       [ True,  True,  True,  True,  True],\n",
       "       [ True,  True,  True,  True,  True]])"
      ]
     },
     "execution_count": 4,
     "metadata": {},
     "output_type": "execute_result"
    }
   ],
   "source": [
    " #Create a 5×5 numpy array of all True’s\n",
    "np.full((5, 5), True, dtype=bool)"
   ]
  },
  {
   "cell_type": "code",
   "execution_count": 56,
   "metadata": {},
   "outputs": [
    {
     "data": {
      "text/plain": [
       "array([0, 2, 4, 6, 8])"
      ]
     },
     "execution_count": 56,
     "metadata": {},
     "output_type": "execute_result"
    }
   ],
   "source": [
    "#Extract all even numbers from arrayx\n",
    "arrayx = np.array([0, 1, 2, 3, 4, 5, 6, 7, 8, 9])\n",
    "arrayx[arrayx % 2 == 0] # putting a condition in the brackets will iterate through the array\n"
   ]
  },
  {
   "cell_type": "code",
   "execution_count": 57,
   "metadata": {},
   "outputs": [
    {
     "data": {
      "text/plain": [
       "array([ 1, -3,  3, -3,  5, -3,  7, -3,  9])"
      ]
     },
     "execution_count": 57,
     "metadata": {},
     "output_type": "execute_result"
    }
   ],
   "source": [
    "#Replace all even numbers in arr with -3\n",
    "arr = np.array([1, 2, 3, 4, 5, 6, 7, 8, 9])\n",
    "arr[arr % 2 == 0] = -3\n",
    "arr"
   ]
  },
  {
   "cell_type": "code",
   "execution_count": 12,
   "metadata": {},
   "outputs": [
    {
     "data": {
      "text/plain": [
       "array([[ 0,  1,  2,  3,  4,  5,  6,  7,  8,  9],\n",
       "       [10, 11, 12, 13, 14, 15, 16, 17, 18, 19]])"
      ]
     },
     "execution_count": 12,
     "metadata": {},
     "output_type": "execute_result"
    }
   ],
   "source": [
    "#Convert a 1D array to a 2D array with 2 rows\n",
    "arrayx = np.arange(20)\n",
    "arrayx.reshape(2, -1)"
   ]
  },
  {
   "cell_type": "code",
   "execution_count": 15,
   "metadata": {},
   "outputs": [
    {
     "data": {
      "text/plain": [
       "array([[0, 1, 2, 3, 4],\n",
       "       [5, 6, 7, 8, 9],\n",
       "       [1, 1, 1, 1, 1],\n",
       "       [1, 1, 1, 1, 1]])"
      ]
     },
     "execution_count": 15,
     "metadata": {},
     "output_type": "execute_result"
    }
   ],
   "source": [
    "#Stack arrays a and b vertically\n",
    "a = np.arange(10).reshape(2,-1)\n",
    "b = np.repeat(1, 10).reshape(2,-1)\n",
    "c = np.vstack((a, b)) # vstack stacks the arrays vertically on top of each other\n",
    "c"
   ]
  },
  {
   "cell_type": "code",
   "execution_count": 17,
   "metadata": {},
   "outputs": [
    {
     "data": {
      "text/plain": [
       "array([[0, 1, 2, 3, 4, 1, 1, 1, 1, 1],\n",
       "       [5, 6, 7, 8, 9, 1, 1, 1, 1, 1]])"
      ]
     },
     "execution_count": 17,
     "metadata": {},
     "output_type": "execute_result"
    }
   ],
   "source": [
    "#Stack arrays a and b horizontally\n",
    "a = np.arange(10).reshape(2,-1)\n",
    "b = np.repeat(1, 10).reshape(2,-1)\n",
    "c = np.hstack((a, b)) # hstack stacks a and b horizontally on top of each other\n",
    "c"
   ]
  },
  {
   "cell_type": "code",
   "execution_count": 21,
   "metadata": {},
   "outputs": [
    {
     "data": {
      "text/plain": [
       "array([2, 4])"
      ]
     },
     "execution_count": 21,
     "metadata": {},
     "output_type": "execute_result"
    }
   ],
   "source": [
    "#Get the common items between a and b\n",
    "a = np.array([1,2,3,2,3,4,3,4,5,6])\n",
    "b = np.array([7,2,10,2,7,4,9,4,9,8])\n",
    "c = np.intersect1d(a, b) # creates an intersection between a and b\n",
    "c"
   ]
  },
  {
   "cell_type": "code",
   "execution_count": 23,
   "metadata": {},
   "outputs": [
    {
     "data": {
      "text/plain": [
       "array([6, 7, 8, 9])"
      ]
     },
     "execution_count": 23,
     "metadata": {},
     "output_type": "execute_result"
    }
   ],
   "source": [
    "#From array b remove all items present in array a\n",
    "a = np.array([1,2,3,4,5])\n",
    "b = np.array([5,6,7,8,9])\n",
    "c = np.setdiff1d(b,a) \n",
    "c"
   ]
  },
  {
   "cell_type": "code",
   "execution_count": 58,
   "metadata": {},
   "outputs": [
    {
     "data": {
      "text/plain": [
       "(array([1, 3, 5, 7]),)"
      ]
     },
     "execution_count": 58,
     "metadata": {},
     "output_type": "execute_result"
    }
   ],
   "source": [
    "#Get the positions where elements of a and b match\n",
    "a = np.array([1,2,3,2,3,4,3,4,5,6])\n",
    "b = np.array([7,2,10,2,7,4,9,4,9,8])\n",
    "c = np.where(a==b)\n",
    "c"
   ]
  },
  {
   "cell_type": "code",
   "execution_count": 25,
   "metadata": {},
   "outputs": [
    {
     "data": {
      "text/plain": [
       "array([6., 7., 9., 8., 9., 7., 5.])"
      ]
     },
     "execution_count": 25,
     "metadata": {},
     "output_type": "execute_result"
    }
   ],
   "source": [
    "#Convert the function maxx that works on two scalars, to work on two arrays.\n",
    "def maxx(x, y):\n",
    "    \"\"\"Get the maximum of two items\"\"\"\n",
    "    if x >= y:\n",
    "        return x\n",
    "    else:\n",
    "        return y\n",
    "\n",
    "pair_max = np.vectorize(maxx, otypes=[float])# vectorize defines an iterative function that can be ran on multiple arrays\n",
    "\n",
    "a = np.array([5, 7, 9, 8, 6, 4, 5])\n",
    "b = np.array([6, 3, 4, 8, 9, 7, 1])\n",
    "pair_max(a, b)"
   ]
  },
  {
   "cell_type": "code",
   "execution_count": 26,
   "metadata": {},
   "outputs": [
    {
     "data": {
      "text/plain": [
       "array([[3, 4, 5],\n",
       "       [0, 1, 2],\n",
       "       [6, 7, 8]])"
      ]
     },
     "execution_count": 26,
     "metadata": {},
     "output_type": "execute_result"
    }
   ],
   "source": [
    "#How to swap two rows in a 2d numpy array?\n",
    "#Swap rows 1 and 2 in the array arr:\n",
    "\n",
    "arr = np.arange(9).reshape(3,3)\n",
    "arr[[1,0,2], :] # swaps the order from [0,1,2] to [1,0,2]"
   ]
  },
  {
   "cell_type": "code",
   "execution_count": 27,
   "metadata": {},
   "outputs": [
    {
     "data": {
      "text/plain": [
       "array([[0.609 , 0.4708, 0.9339],\n",
       "       [0.8802, 0.8731, 0.0079],\n",
       "       [0.6596, 0.7981, 0.4761],\n",
       "       [0.8942, 0.5707, 0.407 ]])"
      ]
     },
     "execution_count": 27,
     "metadata": {},
     "output_type": "execute_result"
    }
   ],
   "source": [
    "#Print or show only 4 decimal places of the numpy array rand_arr\n",
    "\n",
    "#Input included\n",
    "rand_arr = np.random.random((5,3))\n",
    "\n",
    "np.set_printoptions(precision=4)\n",
    "rand_arr[:4]"
   ]
  },
  {
   "cell_type": "code",
   "execution_count": 28,
   "metadata": {},
   "outputs": [
    {
     "name": "stdout",
     "output_type": "stream",
     "text": [
      "3.0540000000000003 3.0 0.4321465800705435\n"
     ]
    }
   ],
   "source": [
    "#Find the mean, median, standard deviation of iris's sepallength (1st column)\n",
    "url = 'https://archive.ics.uci.edu/ml/machine-learning-databases/iris/iris.data'\n",
    "iris = np.genfromtxt(url, delimiter=',', dtype='object')\n",
    "sepalwidth = np.genfromtxt(url, delimiter=',', dtype='float', usecols=[1])\n",
    "\n",
    "mu = np.mean(sepalwidth)\n",
    "med = np.median(sepalwidth)\n",
    "sd = np.std(sepalwidth)\n",
    "print(mu, med, sd)"
   ]
  },
  {
   "cell_type": "code",
   "execution_count": 60,
   "metadata": {},
   "outputs": [
    {
     "name": "stdout",
     "output_type": "stream",
     "text": [
      "[0.625  0.4167 0.5    0.4583 0.6667 0.7917 0.5833 0.5833 0.375  0.4583\n",
      " 0.7083 0.5833 0.4167 0.4167 0.8333 1.     0.7917 0.625  0.75   0.75\n",
      " 0.5833 0.7083 0.6667 0.5417 0.5833 0.4167 0.5833 0.625  0.5833 0.5\n",
      " 0.4583 0.5833 0.875  0.9167 0.4583 0.5    0.625  0.4583 0.4167 0.5833\n",
      " 0.625  0.125  0.5    0.625  0.75   0.4167 0.75   0.5    0.7083 0.5417\n",
      " 0.5    0.5    0.4583 0.125  0.3333 0.3333 0.5417 0.1667 0.375  0.2917\n",
      " 0.     0.4167 0.0833 0.375  0.375  0.4583 0.4167 0.2917 0.0833 0.2083\n",
      " 0.5    0.3333 0.2083 0.3333 0.375  0.4167 0.3333 0.4167 0.375  0.25\n",
      " 0.1667 0.1667 0.2917 0.2917 0.4167 0.5833 0.4583 0.125  0.4167 0.2083\n",
      " 0.25   0.4167 0.25   0.125  0.2917 0.4167 0.375  0.375  0.2083 0.3333\n",
      " 0.5417 0.2917 0.4167 0.375  0.4167 0.4167 0.2083 0.375  0.2083 0.6667\n",
      " 0.5    0.2917 0.4167 0.2083 0.3333 0.5    0.4167 0.75   0.25   0.0833\n",
      " 0.5    0.3333 0.3333 0.2917 0.5417 0.5    0.3333 0.4167 0.3333 0.4167\n",
      " 0.3333 0.75   0.3333 0.3333 0.25   0.4167 0.5833 0.4583 0.4167 0.4583\n",
      " 0.4583 0.4583 0.2917 0.5    0.5417 0.4167 0.2083 0.4167 0.5833 0.4167]\n"
     ]
    }
   ],
   "source": [
    "#Create a normalized form of iris's sepalwidth whose values range exactly between 0 and 1 so that the minimum has value 0 and maximum has value 1.\n",
    "url = 'https://archive.ics.uci.edu/ml/machine-learning-databases/iris/iris.data'\n",
    "sepalwidth = np.genfromtxt(url, delimiter=',', dtype='float', usecols=[1])\n",
    "\n",
    "Smax, Smin = sepalwidth.max(), sepalwidth.min()\n",
    "S = (sepalwidth - Smin)/sepalwidth.ptp() # ptp = max - min \n",
    "print(S)\n",
    "\n"
   ]
  },
  {
   "cell_type": "code",
   "execution_count": 54,
   "metadata": {},
   "outputs": [
    {
     "data": {
      "image/png": "[encoded data removed]",
      "text/plain": [
       "<Figure size 600x300 with 1 Axes>"
      ]
     },
     "metadata": {},
     "output_type": "display_data"
    }
   ],
   "source": [
    "#Create a normalized histogram of iris's sepalwidth \n",
    "url = 'https://archive.ics.uci.edu/ml/machine-learning-databases/iris/iris.data'\n",
    "sepalwidth = np.genfromtxt(url, delimiter=',', dtype='float', usecols=[1])\n",
    "\n",
    "#  Write the code to show the normalized histogram of iris's sepalwidth\n",
    "import matplotlib.pyplot as plt \n",
    "\n",
    "import seaborn as sns \n",
    "\n",
    "# figsize controls actual screen size, here its 6 inches by 3 inches\n",
    "# generate nrows * number of graphs and store the axis that we want to plot\n",
    "# f is the overall figure\n",
    "f , ax1  = plt.subplots (nrows=1 , ncols= 1, figsize=(6,3)) \n",
    "\n",
    "ax1.hist(S , density=True, color='g') \n",
    "ax1.set_xlabel(\"normalized Values\")\n",
    "ax1.set_ylabel(\"Counts\")\n",
    "\n",
    "plt.show() \n",
    "#plt.hist(sepalwidth,color= 'b')"
   ]
  },
  {
   "cell_type": "code",
   "execution_count": 47,
   "metadata": {},
   "outputs": [
    {
     "data": {
      "image/png": "[encoded data removed]",
      "text/plain": [
       "<Figure size 600x300 with 1 Axes>"
      ]
     },
     "metadata": {},
     "output_type": "display_data"
    }
   ],
   "source": [
    "#Create a Cumulative histogram of iris's sepalwidth \n",
    "url = 'https://archive.ics.uci.edu/ml/machine-learning-databases/iris/iris.data'\n",
    "sepalwidth = np.genfromtxt(url, delimiter=',', dtype='float', usecols=[1])\n",
    "\n",
    "\n",
    "#  Write the code to show the Cumulative histogram of iris's sepalwidth\n",
    "import matplotlib.pyplot as plt \n",
    "\n",
    "import seaborn as sns \n",
    "\n",
    "f , ax1  = plt.subplots (1 , 1, figsize=(6,3)) \n",
    "# density if true means the graph is normalised\n",
    "ax1.hist(sepalwidth , bins=30, density=True, color='r', cumulative=True) \n",
    "\n",
    "plt.show() "
   ]
  },
  {
   "cell_type": "code",
   "execution_count": 48,
   "metadata": {},
   "outputs": [
    {
     "data": {
      "image/png": "[encoded data removed]",
      "text/plain": [
       "<Figure size 500x400 with 1 Axes>"
      ]
     },
     "metadata": {},
     "output_type": "display_data"
    }
   ],
   "source": [
    "#Create a box plot of iris's sepalwidth \n",
    "url = 'https://archive.ics.uci.edu/ml/machine-learning-databases/iris/iris.data'\n",
    "sepalwidth = np.genfromtxt(url, delimiter=',', dtype='float', usecols=[1])\n",
    "\n",
    "# Write the code to show the box plot of iris's sepalwidth\n",
    "f, ax = plt.subplots(1, 1, figsize=(5,4)) \n",
    "\n",
    "ax.boxplot((sepalwidth)) \n",
    "\n",
    "plt.show() "
   ]
  },
  {
   "cell_type": "markdown",
   "metadata": {},
   "source": [
    "# Vectors and Matrices in Python"
   ]
  },
  {
   "cell_type": "code",
   "execution_count": 19,
   "metadata": {},
   "outputs": [],
   "source": [
    "#We can create a vector by:\n",
    "import numpy as np\n",
    "a = np.array([1,0,2])\n",
    "b = np.array([3,2,1])"
   ]
  },
  {
   "cell_type": "code",
   "execution_count": 20,
   "metadata": {},
   "outputs": [
    {
     "data": {
      "text/plain": [
       "(3,)"
      ]
     },
     "execution_count": 20,
     "metadata": {},
     "output_type": "execute_result"
    }
   ],
   "source": [
    "# A vector only has one dimension in python (its not directly treated as matrix). We can see that as the second dimension (calling shape) is left free\n",
    "a.shape"
   ]
  },
  {
   "cell_type": "code",
   "execution_count": 21,
   "metadata": {},
   "outputs": [
    {
     "data": {
      "text/plain": [
       "10"
      ]
     },
     "execution_count": 21,
     "metadata": {},
     "output_type": "execute_result"
    }
   ],
   "source": [
    "#We can add vectors and compute the inner product with the dot function\n",
    "c = a + b\n",
    "d = a.dot(c)\n",
    "d"
   ]
  },
  {
   "cell_type": "code",
   "execution_count": 22,
   "metadata": {},
   "outputs": [
    {
     "data": {
      "text/plain": [
       "((2, 3), (3, 2))"
      ]
     },
     "execution_count": 22,
     "metadata": {},
     "output_type": "execute_result"
    }
   ],
   "source": [
    "# A matrix is created by:\n",
    "A = np.array([[2, 1, 3], [1, 1 ,2]])\n",
    "B = np.array([[2, 1], [1, 2], [5 ,2]])\n",
    "\n",
    "A.shape, B.shape"
   ]
  },
  {
   "cell_type": "code",
   "execution_count": null,
   "metadata": {},
   "outputs": [],
   "source": []
  }
 ],
 "metadata": {
  "kernelspec": {
   "display_name": "Python 3.10.7 64-bit",
   "language": "python",
   "name": "python3"
  },
  "language_info": {
   "codemirror_mode": {
    "name": "ipython",
    "version": 3
   },
   "file_extension": ".py",
   "mimetype": "text/x-python",
   "name": "python",
   "nbconvert_exporter": "python",
   "pygments_lexer": "ipython3",
   "version": "3.10.7"
  },
  "vscode": {
   "interpreter": {
    "hash": "916dbcbb3f70747c44a77c7bcd40155683ae19c65e1c03b4aa3499c5328201f1"
   }
  }
 },
 "nbformat": 4,
 "nbformat_minor": 2
}
